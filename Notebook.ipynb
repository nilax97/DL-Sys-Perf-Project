{
 "cells": [
  {
   "cell_type": "code",
   "execution_count": null,
   "id": "2b7b9a36",
   "metadata": {},
   "outputs": [],
   "source": [
    "## Planned datasets - Image (different image sizes/ Different number of classes), \n",
    "##                    Classification (Different feature size / Different number of classes)\n",
    "\n",
    "## Planned models - FC/Dropout, CNN(LeNet)/Resnet/Inception (Maybe include attention)\n",
    "\n",
    "## Predict running time based on Layers/No of params/FLOPs\n",
    "## Calculate total number of computations (based on dataset/model size)\n",
    "## Calculate approx cost on GCP (or any cloud platform)"
   ]
  }
 ],
 "metadata": {
  "kernelspec": {
   "display_name": "Python 3 (ipykernel)",
   "language": "python",
   "name": "python3"
  },
  "language_info": {
   "codemirror_mode": {
    "name": "ipython",
    "version": 3
   },
   "file_extension": ".py",
   "mimetype": "text/x-python",
   "name": "python",
   "nbconvert_exporter": "python",
   "pygments_lexer": "ipython3",
   "version": "3.8.12"
  }
 },
 "nbformat": 4,
 "nbformat_minor": 5
}
